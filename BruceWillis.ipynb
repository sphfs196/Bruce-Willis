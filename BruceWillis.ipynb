{
 "cells": [
  {
   "cell_type": "code",
   "execution_count": 2,
   "metadata": {},
   "outputs": [],
   "source": [
    "# coding=utf-8\n",
    "import jieba\n",
    "import sklearn\n",
    "import word2vec\n",
    "import pandas as pd\n",
    "import re\n",
    "from hanziconv import HanziConv\n",
    "\n",
    "import codecs"
   ]
  },
  {
   "cell_type": "code",
   "execution_count": 3,
   "metadata": {},
   "outputs": [
    {
     "name": "stdout",
     "output_type": "stream",
     "text": [
      "傱shuǎn\n",
      "傱\n",
      "shuǎn\n"
     ]
    }
   ],
   "source": [
    "# 拼音轉換列表 -> 用成連結網站比較好 嗎\n",
    "i = 0\n",
    "fileTrainRead = []\n",
    "with open('/Users/miplab01/Downloads/jiebaTest/Test.txt',encoding=\"utf8\") as fileTrainRaw:\n",
    "    for line in fileTrainRaw:\n",
    "        #print(i)\n",
    "        #i = i+1\n",
    "        fileTrainRead.append(HanziConv.toTraditional(line))\n",
    "\n",
    "# 把拼音轉換表當成一整個string吃進來再按照逗號分割\n",
    "str1 = ''.join(fileTrainRead)\n",
    "data = str1.split(\",\")\n",
    "data[0] = data[0][1:]\n",
    "\n",
    "# 把拼音轉換表分別存成中文字和拼音\n",
    "chinese = [\"\" for x in range(len(data))]\n",
    "pinyin = [\"\" for x in range(len(data))]\n",
    "i = 0\n",
    "for item in data:\n",
    "    chinese[i] = data[i][:1]\n",
    "    pinyin[i] = data[i][1:]\n",
    "    i = i+1\n",
    "\n",
    "print(data[20849])\n",
    "print(chinese[20849])\n",
    "print(pinyin[20849])"
   ]
  },
  {
   "cell_type": "code",
   "execution_count": 4,
   "metadata": {},
   "outputs": [
    {
     "name": "stdout",
     "output_type": "stream",
     "text": [
      "不 1146\n",
      "佈 1147\n",
      "吥 1148\n",
      "步 1149\n",
      "咘 1150\n",
      "怖 1151\n",
      "歨 1152\n",
      "歩 1153\n",
      "鈈 1154\n",
      "勏 1155\n",
      "埗 1156\n",
      "悑 1157\n",
      "捗 1158\n",
      "荹 1159\n",
      "部 1160\n",
      "埠 1161\n",
      "瓿 1162\n",
      "鈈 1163\n",
      "廍 1164\n",
      "蔀 1165\n",
      "踄 1166\n",
      "郶 1167\n",
      "篰 1168\n",
      "餢 1169\n",
      "簿 1170\n",
      "尃 1171\n",
      "箁 1172\n",
      "抪 1173\n",
      "柨 1174\n",
      "布 1175\n"
     ]
    }
   ],
   "source": [
    "# 測試可不可以直接拿拼音來判斷 -> 好像可以\n",
    "i = 0\n",
    "for item in pinyin:\n",
    "    if item == \"bù\":\n",
    "        print(chinese[i],i)\n",
    "    i = i+1\n",
    "   "
   ]
  },
  {
   "cell_type": "code",
   "execution_count": 5,
   "metadata": {},
   "outputs": [
    {
     "name": "stdout",
     "output_type": "stream",
     "text": [
      "布\n",
      "bù\n",
      "魯\n",
      "lǔ\n",
      "斯\n",
      "sī\n",
      "威\n",
      "wēi\n",
      "利\n",
      "lì\n"
     ]
    }
   ],
   "source": [
    "# 把輸入的中文轉換成拼音\n",
    "inputStr = \"布魯斯威利\"\n",
    "#simplifiedIn = HanziConv.toSimplified(inputStr)\n",
    "i = 0\n",
    "\n",
    "for char in inputStr:\n",
    "    for ch in chinese:\n",
    "        if char == ch:\n",
    "            print(ch)\n",
    "            print(pinyin[i])\n",
    "            #同時有簡體的字會出現兩次(簡體跟繁體) -> break掉\n",
    "            break\n",
    "        i = i+1\n",
    "    i = 0"
   ]
  },
  {
   "cell_type": "code",
   "execution_count": 6,
   "metadata": {},
   "outputs": [
    {
     "name": "stdout",
     "output_type": "stream",
     "text": [
      "<class 'pandas.core.frame.DataFrame'>\n",
      "RangeIndex: 73160 entries, 0 to 73159\n",
      "Data columns (total 12 columns):\n",
      "URL             73160 non-null object\n",
      "POST_BOARD      73160 non-null object\n",
      "POST_AUTHOR     73160 non-null object\n",
      "POST_TITLE      73160 non-null object\n",
      "POST_CONTENT    73160 non-null object\n",
      "POST_DATE       73160 non-null object\n",
      "POST_TIME       73160 non-null object\n",
      "POST_IP         73160 non-null object\n",
      "推               73160 non-null int64\n",
      "噓               73160 non-null int64\n",
      "→               73160 non-null int64\n",
      "REPLY           73160 non-null int64\n",
      "dtypes: int64(4), object(8)\n",
      "memory usage: 6.7+ MB\n"
     ]
    }
   ],
   "source": [
    "# 把現成的PTT資料讀進來(不知道為什麼路徑要雙斜線)\n",
    "df = pd.read_csv('C:\\\\Users\\\\miplab01\\\\Downloads\\\\jiebaTest\\\\1_PTT\\\\1_PTT\\\\data\\\\PTT_Gossiping_201611_post.csv')\n",
    "df.info()"
   ]
  },
  {
   "cell_type": "code",
   "execution_count": 7,
   "metadata": {},
   "outputs": [
    {
     "name": "stdout",
     "output_type": "stream",
     "text": [
      "文本聚类使用聚类方法对词汇片段段落或文件进行分组和归类\n"
     ]
    }
   ],
   "source": [
    "# 測試用re拿掉標點符號\n",
    "s = ' 文本聚类：使用聚类方法...,./)()。?&*[]!。##$%^&*(，对词汇，片段，段落或文件进行分组和归类。'\n",
    "\n",
    "print(re.sub('\\W', '', s))"
   ]
  },
  {
   "cell_type": "code",
   "execution_count": 8,
   "metadata": {},
   "outputs": [
    {
     "name": "stderr",
     "output_type": "stream",
     "text": [
      "Building prefix dict from the default dictionary ...\n",
      "Loading model from cache C:\\Users\\miplab01\\AppData\\Local\\Temp\\jieba.cache\n",
      "Loading model cost 0.734 seconds.\n",
      "Prefix dict has been built succesfully.\n"
     ]
    }
   ],
   "source": [
    "# 抓出title資料，用string表示\n",
    "ptt_title = [\"\" for x in range(len(df['POST_TITLE']))]\n",
    "ptt_title = \"\".join(df['POST_TITLE'])\n",
    "\n",
    "# 把string裡面的標點符號拿掉\n",
    "ptt_title = re.sub('\\W','',ptt_title)\n",
    "\n",
    "# 用逗號分割\n",
    "ptt_title_cut = jieba.cut(ptt_title,cut_all = False)\n",
    "ptt_title_cut = \",\".join(ptt_title_cut).split(\",\")"
   ]
  },
  {
   "cell_type": "code",
   "execution_count": null,
   "metadata": {},
   "outputs": [],
   "source": [
    "# 把title的拼音存在title_pinyin\n",
    "title_pinyin = [\"\" for x in range(len(ptt_title_cut))]\n",
    "\n",
    "i = 0    # title的詞的第幾個字\n",
    "j = 0    # 轉換表裡面的第幾個字\n",
    "k = 0    # title的詞的拼音\n",
    "loopRestart = True\n",
    "\n",
    "for item in ptt_title_cut:\n",
    "    while loopRestart:\n",
    "        loopRestart = False\n",
    "        for ch in chinese:\n",
    "            if item[i] == ch:\n",
    "                title_pinyin[k] = title_pinyin[k] + pinyin[j] + \" \"\n",
    "                i = i+1\n",
    "                if i == len(item):\n",
    "                    i = 0\n",
    "                    loopRestart = False\n",
    "                    break\n",
    "                elif i < len(item): \n",
    "                    loopRestart = True\n",
    "                    j = 0\n",
    "                    break\n",
    "            elif item[i] != ch: \n",
    "                j = j+1\n",
    "    k = k+1\n",
    "    j = 0\n",
    "    i = 0\n",
    "    loopRestart = True"
   ]
  },
  {
   "cell_type": "code",
   "execution_count": null,
   "metadata": {},
   "outputs": [],
   "source": [
    "# 偷看一下\n",
    "len(ptt_title_cut)\n",
    "ptt_title_cut"
   ]
  },
  {
   "cell_type": "code",
   "execution_count": null,
   "metadata": {},
   "outputs": [],
   "source": [
    "# 偷看一下趴兔\n",
    "len(title_pinyin)\n",
    "title_pinyin[646417].split(\" \")[0]"
   ]
  },
  {
   "cell_type": "code",
   "execution_count": null,
   "metadata": {},
   "outputs": [],
   "source": [
    "inputStr = \"原子小金剛\"\n",
    "#last = inputStr[(len(inputStr)-1):]\n",
    "last = inputStr[len(inputStr)-2]\n",
    "\n",
    "j = 0\n",
    "for ch in chinese:\n",
    "    if last == ch:\n",
    "        last_pinyin = pinyin[j]\n",
    "        break\n",
    "    j = j+1\n",
    "\n",
    "i = 0\n",
    "for t_py in title_pinyin:\n",
    "    if t_py.split(\" \")[0] == last_pinyin:\n",
    "        print(inputStr[:(len(inputStr)-2)] + ptt_title_cut[i])# [1:])\n",
    "    i = i+1        "
   ]
  }
 ],
 "metadata": {
  "kernelspec": {
   "display_name": "Python 3",
   "language": "python",
   "name": "python3"
  },
  "language_info": {
   "codemirror_mode": {
    "name": "ipython",
    "version": 3
   },
   "file_extension": ".py",
   "mimetype": "text/x-python",
   "name": "python",
   "nbconvert_exporter": "python",
   "pygments_lexer": "ipython3",
   "version": "3.6.5"
  }
 },
 "nbformat": 4,
 "nbformat_minor": 2
}
