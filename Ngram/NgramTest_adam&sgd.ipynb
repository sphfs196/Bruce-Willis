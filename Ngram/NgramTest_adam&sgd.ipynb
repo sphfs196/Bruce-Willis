{
 "cells": [
  {
   "cell_type": "code",
   "execution_count": 1,
   "metadata": {},
   "outputs": [],
   "source": [
    "import os\n",
    "import sys\n",
    "\n",
    "import torch\n",
    "import torch.autograd as autograd\n",
    "import torch.nn as nn\n",
    "import torch.nn.functional as F\n",
    "import torch.optim as optim\n",
    "\n",
    "import time\n",
    "import math\n",
    "\n",
    "def time_since(since):\n",
    "\ts = time.time() - since\n",
    "\tm = math.floor(s/60)\n",
    "\ts -= m*60\n",
    "\treturn '%dm %ds' % (m, s)\n",
    "\n",
    "\n",
    "CONTEXT_SIZE = 2 \n",
    "EMBEDDING_DIM = 10\n"
   ]
  },
  {
   "cell_type": "code",
   "execution_count": 2,
   "metadata": {},
   "outputs": [],
   "source": [
    "modelPath = \"4_test.pkl\"\n",
    "argPath = '4_testArg.pt'\n",
    "test_sentence = \"當地警察已在28日下午開始監控人潮，但遊客數量似乎不如預期的多，因為當局目前認定還沒有關閉閘門的必要。威尼斯絡繹不絕的觀光客，已經成為當地人的惡夢。當地巷弄窄小，在旅遊旺季街道幾乎難以行走。\"\n",
    "\n",
    "trigrams = []\n",
    "trigramsList = []\n",
    "trigramsList = [ ([test_sentence[i], test_sentence[i+1]], test_sentence[i+2])\n",
    "            for i in range(len(test_sentence) - 2) ]\n",
    "\n",
    "vocab = set(test_sentence)\n",
    "\n",
    "word_to_ix = {word : i for i, word in enumerate(vocab)}\n",
    "ix_to_word = {i: word for i, word in enumerate(vocab)}"
   ]
  },
  {
   "cell_type": "code",
   "execution_count": 3,
   "metadata": {},
   "outputs": [
    {
     "data": {
      "text/plain": [
       "74"
      ]
     },
     "execution_count": 3,
     "metadata": {},
     "output_type": "execute_result"
    }
   ],
   "source": [
    "len(vocab)"
   ]
  },
  {
   "cell_type": "code",
   "execution_count": 4,
   "metadata": {},
   "outputs": [],
   "source": [
    "class NGramLanguageModeler(nn.Module):\n",
    "\n",
    "    def __init__(self, vocab_size, embedding_dim, context_size):\n",
    "        super(NGramLanguageModeler, self).__init__()\n",
    "        self.embeddings = nn.Embedding(vocab_size, embedding_dim)\n",
    "        self.linear1 = nn.Linear(context_size * embedding_dim, 128)\n",
    "        self.linear2 = nn.Linear(128, vocab_size)\n",
    "\n",
    "    def forward(self, inputs):\n",
    "        embdeds = self.embeddings(inputs).view((1, -1))\n",
    "        out = F.relu(self.linear1(embdeds))\n",
    "        out = self.linear2(out)\n",
    "        log_probs = F.log_softmax(out, dim=1)\n",
    "        return log_probs, self.embeddings\n",
    "\n",
    "model = NGramLanguageModeler(len(vocab), EMBEDDING_DIM, CONTEXT_SIZE)\n",
    "losses = []\n",
    "loss_function = nn.NLLLoss()\n",
    "optimizer = optim.Adam(model.parameters(), lr=0.01, eps = 0.1, betas=(0.99, 0.999))\n",
    "#optimizer = optim.SGD(model.parameters(), lr=0.001)"
   ]
  },
  {
   "cell_type": "code",
   "execution_count": 5,
   "metadata": {},
   "outputs": [
    {
     "name": "stdout",
     "output_type": "stream",
     "text": [
      "loading pretrained model...\n"
     ]
    },
    {
     "data": {
      "text/plain": [
       "'\\ncheckpoint = torch.load(argPath)\\n#args.start_epoch = checkpoint[\\'epoch\\']\\nmodel.load_state_dict(checkpoint[\\'state_dict\\'])\\noptimizer.load_state_dict(checkpoint[\\'optimizer\\'])\\nprint(\"=> loaded checkpoint : (epoch {})\".format(checkpoint[\\'epoch\\']))\\n'"
      ]
     },
     "execution_count": 5,
     "metadata": {},
     "output_type": "execute_result"
    }
   ],
   "source": [
    "# loading pretrained model, etc...\n",
    "print('loading pretrained model...')\n",
    "\"\"\"\n",
    "checkpoint = torch.load(argPath)\n",
    "#args.start_epoch = checkpoint['epoch']\n",
    "model.load_state_dict(checkpoint['state_dict'])\n",
    "optimizer.load_state_dict(checkpoint['optimizer'])\n",
    "print(\"=> loaded checkpoint : (epoch {})\".format(checkpoint['epoch']))\n",
    "\"\"\""
   ]
  },
  {
   "cell_type": "code",
   "execution_count": 6,
   "metadata": {},
   "outputs": [
    {
     "name": "stdout",
     "output_type": "stream",
     "text": [
      "in cpu\n"
     ]
    }
   ],
   "source": [
    "if torch.cuda.is_available():\n",
    "    print(\"in gpu\")\n",
    "    model.cuda()\n",
    "else:\n",
    "    print(\"in cpu\")\n",
    "    model.cpu()"
   ]
  },
  {
   "cell_type": "code",
   "execution_count": 7,
   "metadata": {},
   "outputs": [
    {
     "name": "stdout",
     "output_type": "stream",
     "text": [
      "epoch:\n",
      "0\n",
      "0m 0s\n",
      "loss:\n",
      "tensor(407.7391)\n",
      "['當', '局', '2', '8', '人', '下', '乎', '人', '光', '。', '的', '乎', '，', '察', '的', '2', '日', '在', '2', '8', '人', '下', '乎', '人', '光', '。', '的', '乎', '，', '察', '的', '2', '日', '在', '2', '8', '人', '下', '乎', '人', '光', '。', '的', '乎', '，', '察', '的', '2', '日', '在', '2', '8']\n",
      "epoch:\n",
      "100\n",
      "0m 5s\n",
      "loss:\n",
      "tensor(5.5251)\n",
      "['當', '局', '目', '前', '認', '定', '還', '沒', '有', '關', '閉', '閘', '門', '的', '必', '要', '。', '威', '尼', '斯', '絡', '繹', '不', '絕', '的', '觀', '光', '客', '，', '已', '經', '成', '為', '當', '地', '人', '的', '惡', '夢', '。', '當', '地', '人', '的', '惡', '夢', '。', '當', '地', '人', '的', '惡']\n",
      "epoch:\n",
      "200\n",
      "0m 11s\n",
      "loss:\n",
      "tensor(5.2207)\n",
      "['當', '局', '目', '前', '認', '定', '還', '沒', '有', '關', '閉', '閘', '門', '的', '必', '要', '。', '威', '尼', '斯', '絡', '繹', '不', '絕', '的', '觀', '光', '客', '，', '已', '經', '成', '為', '當', '地', '人', '的', '惡', '夢', '。', '當', '地', '人', '的', '惡', '夢', '。', '當', '地', '人', '的', '惡']\n",
      "epoch:\n",
      "300\n",
      "0m 16s\n",
      "loss:\n",
      "tensor(5.1022)\n",
      "['當', '局', '目', '前', '認', '定', '還', '沒', '有', '關', '閉', '閘', '門', '的', '必', '要', '。', '威', '尼', '斯', '絡', '繹', '不', '絕', '的', '觀', '光', '客', '，', '已', '經', '成', '為', '當', '地', '人', '的', '惡', '夢', '。', '當', '地', '人', '的', '惡', '夢', '。', '當', '地', '人', '的', '惡']\n",
      "epoch:\n",
      "400\n",
      "0m 21s\n",
      "loss:\n",
      "tensor(5.0403)\n",
      "['當', '局', '目', '前', '認', '定', '還', '沒', '有', '關', '閉', '閘', '門', '的', '必', '要', '。', '威', '尼', '斯', '絡', '繹', '不', '絕', '的', '觀', '光', '客', '，', '已', '經', '成', '為', '當', '地', '人', '的', '惡', '夢', '。', '當', '地', '人', '的', '惡', '夢', '。', '當', '地', '人', '的', '惡']\n",
      "epoch:\n",
      "500\n",
      "0m 27s\n",
      "loss:\n",
      "tensor(5.0133)\n",
      "['當', '局', '目', '前', '認', '定', '還', '沒', '有', '關', '閉', '閘', '門', '的', '必', '要', '。', '威', '尼', '斯', '絡', '繹', '不', '絕', '的', '觀', '光', '客', '，', '已', '經', '成', '為', '當', '地', '人', '的', '惡', '夢', '。', '當', '地', '人', '的', '惡', '夢', '。', '當', '地', '人', '的', '惡']\n",
      "epoch:\n",
      "600\n",
      "0m 33s\n",
      "loss:\n",
      "tensor(4.9728)\n",
      "['當', '局', '目', '前', '認', '定', '還', '沒', '有', '關', '閉', '閘', '門', '的', '必', '要', '。', '威', '尼', '斯', '絡', '繹', '不', '絕', '的', '觀', '光', '客', '，', '已', '經', '成', '為', '當', '地', '人', '的', '惡', '夢', '。', '當', '地', '人', '的', '惡', '夢', '。', '當', '地', '人', '的', '惡']\n",
      "epoch:\n",
      "700\n",
      "0m 38s\n",
      "loss:\n",
      "tensor(4.9515)\n",
      "['當', '局', '目', '前', '認', '定', '還', '沒', '有', '關', '閉', '閘', '門', '的', '必', '要', '。', '威', '尼', '斯', '絡', '繹', '不', '絕', '的', '觀', '光', '客', '，', '已', '經', '成', '為', '當', '地', '人', '的', '惡', '夢', '。', '當', '地', '人', '的', '惡', '夢', '。', '當', '地', '人', '的', '惡']\n",
      "epoch:\n",
      "800\n",
      "0m 44s\n",
      "loss:\n",
      "tensor(4.9393)\n",
      "['當', '局', '目', '前', '認', '定', '還', '沒', '有', '關', '閉', '閘', '門', '的', '必', '要', '。', '威', '尼', '斯', '絡', '繹', '不', '絕', '的', '觀', '光', '客', '，', '已', '經', '成', '為', '當', '地', '人', '的', '惡', '夢', '。', '當', '地', '人', '的', '惡', '夢', '。', '當', '地', '人', '的', '惡']\n",
      "epoch:\n",
      "900\n",
      "0m 49s\n",
      "loss:\n",
      "tensor(4.9207)\n",
      "['當', '局', '目', '前', '認', '定', '還', '沒', '有', '關', '閉', '閘', '門', '的', '必', '要', '。', '威', '尼', '斯', '絡', '繹', '不', '絕', '的', '觀', '光', '客', '，', '已', '經', '成', '為', '當', '地', '人', '的', '惡', '夢', '。', '當', '地', '人', '的', '惡', '夢', '。', '當', '地', '人', '的', '惡']\n",
      "training time :  0m 55s\n"
     ]
    }
   ],
   "source": [
    "start_time = time.time()\n",
    "for epoch in range(1000):\n",
    "    total_loss = torch.FloatTensor([0])\n",
    "    \n",
    "    #for trigramsItem in trigramsList:\n",
    "    for context, target in trigramsList:\n",
    "            # step 1:\n",
    "            # �Ncontext(ex : ['When','forty'])�ഫ��index(ex : [68, 15])\n",
    "            # �A�নpytorch��variable\n",
    "        context_idxs = [word_to_ix[w] for w in context]\n",
    "        context_var = autograd.Variable(torch.LongTensor(context_idxs))\n",
    "\n",
    "            # step 2:\n",
    "            # �M��gradient�A����W�@�����֭p\n",
    "        model.zero_grad()\n",
    "\n",
    "            # step 3:\n",
    "            # ��variable�ܼƶi�h�]forward\n",
    "        log_probs, embedd = model(context_var)\n",
    "\n",
    "            # step 4:\n",
    "            # �p��loss(��target variable��i�h)\n",
    "        loss = loss_function(log_probs, autograd.Variable(torch.LongTensor([word_to_ix[target]])))\n",
    "        \"\"\"\n",
    "        print(log_probs)\n",
    "        print(autograd.Variable(torch.cuda.LongTensor([word_to_ix[target]])))\n",
    "        print(loss)\n",
    "        print('-----------------------------------')\n",
    "        \"\"\"\n",
    "            # step 5:\n",
    "            # �]backward�A��sgradient\n",
    "        loss.backward()\n",
    "        optimizer.step()\n",
    "\n",
    "        total_loss += loss.data\n",
    "    losses.append(total_loss)\n",
    "        #losses.append(total_loss)\n",
    "    \n",
    "    if epoch % 100 == 0:\n",
    "        print('epoch:')\n",
    "        print(epoch)\n",
    "        print(time_since(start_time))\n",
    "        print('loss:')\n",
    "        print(total_loss[0])\n",
    "        sentence = ['當','局']\n",
    "        predict_word = ''\n",
    "        count = 0\n",
    "\n",
    "        while count < 50 :\n",
    "            word_in = autograd.Variable(torch.LongTensor([word_to_ix[i] for i in sentence[len(sentence)-2:len(sentence)]]))\n",
    "            out, outEmbedd = model(word_in)\n",
    "            _, predict_label = torch.max(out,1)\n",
    "            predict_word = ix_to_word[predict_label.data[0].item()]\n",
    "            #sentence.insert(0, predict_word)\n",
    "            sentence.append(predict_word)\n",
    "            count += 1\n",
    "        print(sentence)\n",
    "        sentence = []\n",
    "print(\"training time : \",time_since(start_time))"
   ]
  },
  {
   "cell_type": "code",
   "execution_count": 8,
   "metadata": {},
   "outputs": [
    {
     "data": {
      "text/plain": [
       "[<matplotlib.lines.Line2D at 0x1cfda588>]"
      ]
     },
     "execution_count": 8,
     "metadata": {},
     "output_type": "execute_result"
    },
    {
     "data": {
      "image/png": "[encoded data removed]",
      "text/plain": [
       "<Figure size 432x288 with 1 Axes>"
      ]
     },
     "metadata": {},
     "output_type": "display_data"
    }
   ],
   "source": [
    "import matplotlib.pyplot as plt\n",
    "import matplotlib.ticker as ticker\n",
    "\n",
    "%matplotlib inline\n",
    "plt.figure\n",
    "plt.plot(losses)"
   ]
  },
  {
   "cell_type": "code",
   "execution_count": 9,
   "metadata": {},
   "outputs": [
    {
     "name": "stdout",
     "output_type": "stream",
     "text": [
      "saving done & predicting...\n",
      "['當', '局', '目', '前', '認', '定', '還', '沒', '有', '關', '閉', '閘', '門', '的', '必', '要', '。', '威', '尼', '斯', '絡', '繹', '不', '絕', '的', '觀', '光', '客', '，', '已', '經', '成', '為', '當', '地', '人', '的', '惡', '夢', '。', '當', '地', '人', '的', '惡', '夢', '。', '當', '地', '人', '的', '惡']\n"
     ]
    }
   ],
   "source": [
    "\n",
    "\"\"\"\n",
    "print('saving model...')\n",
    "torch.save(model, '0_test.pkl')\n",
    "state = {\n",
    "    'epoch': 10,\n",
    "    'state_dict': model.state_dict(),\n",
    "    'optimizer' : optimizer.state_dict()\n",
    "}\n",
    "torch.save(state, '0_testArg.pt')\n",
    "\"\"\"\n",
    "\n",
    "### predict\n",
    "print('saving done & predicting...')\n",
    "\n",
    "sentence = ['當','局']\n",
    "predict_word = ''\n",
    "count = 0\n",
    "\n",
    "while count < 50 :\n",
    "    word_in = autograd.Variable(torch.LongTensor([word_to_ix[i] for i in sentence[len(sentence)-2:len(sentence)]]))\n",
    "    out, outEmbedd = model(word_in)\n",
    "    _, predict_label = torch.max(out,1)\n",
    "    predict_word = ix_to_word[predict_label.data[0].item()]\n",
    "    #sentence.insert(0, predict_word)\n",
    "    sentence.append(predict_word)\n",
    "    count += 1\n",
    "print(sentence)\n",
    "sentence = []"
   ]
  }
 ],
 "metadata": {
  "kernelspec": {
   "display_name": "Python 3",
   "language": "python",
   "name": "python3"
  },
  "language_info": {
   "codemirror_mode": {
    "name": "ipython",
    "version": 3
   },
   "file_extension": ".py",
   "mimetype": "text/x-python",
   "name": "python",
   "nbconvert_exporter": "python",
   "pygments_lexer": "ipython3",
   "version": "3.6.5"
  }
 },
 "nbformat": 4,
 "nbformat_minor": 2
}
